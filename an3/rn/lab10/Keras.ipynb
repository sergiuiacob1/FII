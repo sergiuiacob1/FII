{
 "cells": [
  {
   "cell_type": "code",
   "execution_count": null,
   "metadata": {},
   "outputs": [],
   "source": [
    "import numpy as np\n",
    "from keras.datasets import mnist\n",
    "\n",
    "data = mnist.load_data()\n",
    "(x_train, y_train), (x_val, y_val)= data\n",
    "\n",
    "targets = np.eye(10)\n",
    "y_train, y_val = [targets[y] for y in [y_train, y_val]]\n",
    "x_train, x_val = [x.reshape(x.shape[0], -1)/255 for x in [x_train, x_val]]\n",
    "\n",
    "import this"
   ]
  },
  {
   "cell_type": "code",
   "execution_count": null,
   "metadata": {},
   "outputs": [],
   "source": [
    "from keras.models import Sequential\n",
    "from keras.layers import Dense, Dropout\n",
    "from keras.optimizers import SGD\n",
    "from keras.regularizers import l2\n",
    "\n",
    "model = Sequential()\n",
    "model.add(Dropout(0.2))\n",
    "model.add(Dense(100, activation='sigmoid', kernel_initializer='lecun_normal', kernel_regularizer=l2(0.0001)))\n",
    "model.add(Dense(10, activation='softmax', kernel_initializer='lecun_normal', kernel_regularizer=l2(0.0001)))\n",
    "\n",
    "#model.compile(optimizer = SGD(lr=0.05), loss = 'categorical_crossentropy', metrics = ['acc'])\n",
    "model.compile(optimizer = 'rmsprop', loss = 'categorical_crossentropy', metrics = ['acc'])\n",
    "model.fit(x_train, y_train, validation_data = (x_val, y_val))\n",
    "# model.summary()"
   ]
  },
  {
   "cell_type": "code",
   "execution_count": null,
   "metadata": {},
   "outputs": [],
   "source": [
    "model.evaluate(x_val, y_val)\n",
    "print(model.predict(x_val)[:4])\n",
    "print(y_val[:4])"
   ]
  }
 ],
 "metadata": {
  "kernelspec": {
   "display_name": "Python 3",
   "language": "python",
   "name": "python3"
  }
 },
 "nbformat": 4,
 "nbformat_minor": 2
}
